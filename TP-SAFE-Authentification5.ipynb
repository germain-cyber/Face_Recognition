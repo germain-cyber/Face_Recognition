{
 "cells": [
  {
   "cell_type": "markdown",
   "metadata": {},
   "source": [
    "***1. Test de Neyman-Pearson : cas d'un adversaire passif***\n",
    "\n",
    "**1.1. Deux hypothèses simples**\n",
    "\n",
    "* 1.1.1.\n",
    "\n",
    "1)A) On obtient la statistique suivante :\n",
    "\n",
    "$\n",
    "   \\sum_{k=0}^{255} P_{y_{Blanc}}^n (k) * log(\\frac{Q_{Blanc}(k)}{P_{Blanc}(k)})+ \\sum_{k=0}^{255}  P_{y_{Noir}}^n(k) * log(\\frac{Q_{Noir}(k)}{P_{Noir}(k)})\n",
    "$\n",
    "\n",
    "1)B)Le critère de Neyman Pearson s'énonce comme suit :\n",
    "Si la caractéristique décrite précédemment est inférieur à un seuil fixée pour un objet mathématique donné, alors $H_0$ est acceptée, sinon on accepte $H_1$"
   ]
  },
  {
   "cell_type": "markdown",
   "metadata": {},
   "source": [
    "2)A)\n",
    "$\\alpha$ est la probabilité de première espèce : refuser $H_0$ alors qu'elle est vraie.\n",
    "$\\alpha = P(H_1 | H_0)$\n",
    "\n",
    "$\\beta$ est la probabilité de seconde espèce : accepter $H_1$ alors qu'elle est fausse.\n",
    "$\\beta = P(H_0 | H_1)$"
   ]
  },
  {
   "cell_type": "code",
   "execution_count": 2,
   "metadata": {},
   "outputs": [],
   "source": [
    "import matplotlib.pyplot as plt\n",
    "import skimage.io as io\n",
    "import numpy as np\n",
    "import glob\n",
    "import pathlib\n",
    "from pathlib import Path\n",
    "import math\n",
    "from tqdm import tqdm"
   ]
  },
  {
   "cell_type": "code",
   "execution_count": 3,
   "metadata": {},
   "outputs": [
    {
     "ename": "FileNotFoundError",
     "evalue": "No such file: 'C:\\Users\\y4nni\\OneDrive\\Documents\\SAFE\\sawaya\\TP2\\BarcodesA\\OriginalCode.pgm'",
     "output_type": "error",
     "traceback": [
      "\u001b[1;31m---------------------------------------------------------------------------\u001b[0m",
      "\u001b[1;31mFileNotFoundError\u001b[0m                         Traceback (most recent call last)",
      "\u001b[1;32m~\\AppData\\Local\\Temp/ipykernel_75900/2280569477.py\u001b[0m in \u001b[0;36m<module>\u001b[1;34m\u001b[0m\n\u001b[1;32m----> 1\u001b[1;33m \u001b[0moriginal\u001b[0m\u001b[1;33m=\u001b[0m\u001b[0mio\u001b[0m\u001b[1;33m.\u001b[0m\u001b[0mimread\u001b[0m\u001b[1;33m(\u001b[0m\u001b[1;34mr'C:\\Users\\y4nni\\OneDrive\\Documents\\SAFE\\sawaya\\TP2\\BarcodesA\\OriginalCode.pgm'\u001b[0m\u001b[1;33m)\u001b[0m\u001b[1;33m\u001b[0m\u001b[1;33m\u001b[0m\u001b[0m\n\u001b[0m\u001b[0;32m      2\u001b[0m \u001b[0mplt\u001b[0m\u001b[1;33m.\u001b[0m\u001b[0mimshow\u001b[0m\u001b[1;33m(\u001b[0m\u001b[0moriginal\u001b[0m\u001b[1;33m,\u001b[0m\u001b[0mcmap\u001b[0m\u001b[1;33m=\u001b[0m\u001b[1;34m'gray'\u001b[0m\u001b[1;33m)\u001b[0m\u001b[1;33m\u001b[0m\u001b[1;33m\u001b[0m\u001b[0m\n\u001b[0;32m      3\u001b[0m \u001b[1;33m\u001b[0m\u001b[0m\n\u001b[0;32m      4\u001b[0m \u001b[0mdimCode\u001b[0m \u001b[1;33m=\u001b[0m \u001b[0mlen\u001b[0m\u001b[1;33m(\u001b[0m\u001b[0moriginal\u001b[0m\u001b[1;33m)\u001b[0m\u001b[1;33m**\u001b[0m\u001b[1;36m2\u001b[0m\u001b[1;33m\u001b[0m\u001b[1;33m\u001b[0m\u001b[0m\n\u001b[0;32m      5\u001b[0m \u001b[1;33m\u001b[0m\u001b[0m\n",
      "\u001b[1;32m~\\anaconda3\\lib\\site-packages\\skimage\\io\\_io.py\u001b[0m in \u001b[0;36mimread\u001b[1;34m(fname, as_gray, plugin, **plugin_args)\u001b[0m\n\u001b[0;32m     46\u001b[0m \u001b[1;33m\u001b[0m\u001b[0m\n\u001b[0;32m     47\u001b[0m     \u001b[1;32mwith\u001b[0m \u001b[0mfile_or_url_context\u001b[0m\u001b[1;33m(\u001b[0m\u001b[0mfname\u001b[0m\u001b[1;33m)\u001b[0m \u001b[1;32mas\u001b[0m \u001b[0mfname\u001b[0m\u001b[1;33m:\u001b[0m\u001b[1;33m\u001b[0m\u001b[1;33m\u001b[0m\u001b[0m\n\u001b[1;32m---> 48\u001b[1;33m         \u001b[0mimg\u001b[0m \u001b[1;33m=\u001b[0m \u001b[0mcall_plugin\u001b[0m\u001b[1;33m(\u001b[0m\u001b[1;34m'imread'\u001b[0m\u001b[1;33m,\u001b[0m \u001b[0mfname\u001b[0m\u001b[1;33m,\u001b[0m \u001b[0mplugin\u001b[0m\u001b[1;33m=\u001b[0m\u001b[0mplugin\u001b[0m\u001b[1;33m,\u001b[0m \u001b[1;33m**\u001b[0m\u001b[0mplugin_args\u001b[0m\u001b[1;33m)\u001b[0m\u001b[1;33m\u001b[0m\u001b[1;33m\u001b[0m\u001b[0m\n\u001b[0m\u001b[0;32m     49\u001b[0m \u001b[1;33m\u001b[0m\u001b[0m\n\u001b[0;32m     50\u001b[0m     \u001b[1;32mif\u001b[0m \u001b[1;32mnot\u001b[0m \u001b[0mhasattr\u001b[0m\u001b[1;33m(\u001b[0m\u001b[0mimg\u001b[0m\u001b[1;33m,\u001b[0m \u001b[1;34m'ndim'\u001b[0m\u001b[1;33m)\u001b[0m\u001b[1;33m:\u001b[0m\u001b[1;33m\u001b[0m\u001b[1;33m\u001b[0m\u001b[0m\n",
      "\u001b[1;32m~\\anaconda3\\lib\\site-packages\\skimage\\io\\manage_plugins.py\u001b[0m in \u001b[0;36mcall_plugin\u001b[1;34m(kind, *args, **kwargs)\u001b[0m\n\u001b[0;32m    205\u001b[0m                                (plugin, kind))\n\u001b[0;32m    206\u001b[0m \u001b[1;33m\u001b[0m\u001b[0m\n\u001b[1;32m--> 207\u001b[1;33m     \u001b[1;32mreturn\u001b[0m \u001b[0mfunc\u001b[0m\u001b[1;33m(\u001b[0m\u001b[1;33m*\u001b[0m\u001b[0margs\u001b[0m\u001b[1;33m,\u001b[0m \u001b[1;33m**\u001b[0m\u001b[0mkwargs\u001b[0m\u001b[1;33m)\u001b[0m\u001b[1;33m\u001b[0m\u001b[1;33m\u001b[0m\u001b[0m\n\u001b[0m\u001b[0;32m    208\u001b[0m \u001b[1;33m\u001b[0m\u001b[0m\n\u001b[0;32m    209\u001b[0m \u001b[1;33m\u001b[0m\u001b[0m\n",
      "\u001b[1;32m~\\anaconda3\\lib\\site-packages\\skimage\\io\\_plugins\\imageio_plugin.py\u001b[0m in \u001b[0;36mimread\u001b[1;34m(*args, **kwargs)\u001b[0m\n\u001b[0;32m      8\u001b[0m \u001b[1;33m@\u001b[0m\u001b[0mwraps\u001b[0m\u001b[1;33m(\u001b[0m\u001b[0mimageio_imread\u001b[0m\u001b[1;33m)\u001b[0m\u001b[1;33m\u001b[0m\u001b[1;33m\u001b[0m\u001b[0m\n\u001b[0;32m      9\u001b[0m \u001b[1;32mdef\u001b[0m \u001b[0mimread\u001b[0m\u001b[1;33m(\u001b[0m\u001b[1;33m*\u001b[0m\u001b[0margs\u001b[0m\u001b[1;33m,\u001b[0m \u001b[1;33m**\u001b[0m\u001b[0mkwargs\u001b[0m\u001b[1;33m)\u001b[0m\u001b[1;33m:\u001b[0m\u001b[1;33m\u001b[0m\u001b[1;33m\u001b[0m\u001b[0m\n\u001b[1;32m---> 10\u001b[1;33m     \u001b[1;32mreturn\u001b[0m \u001b[0mnp\u001b[0m\u001b[1;33m.\u001b[0m\u001b[0masarray\u001b[0m\u001b[1;33m(\u001b[0m\u001b[0mimageio_imread\u001b[0m\u001b[1;33m(\u001b[0m\u001b[1;33m*\u001b[0m\u001b[0margs\u001b[0m\u001b[1;33m,\u001b[0m \u001b[1;33m**\u001b[0m\u001b[0mkwargs\u001b[0m\u001b[1;33m)\u001b[0m\u001b[1;33m)\u001b[0m\u001b[1;33m\u001b[0m\u001b[1;33m\u001b[0m\u001b[0m\n\u001b[0m",
      "\u001b[1;32m~\\anaconda3\\lib\\site-packages\\imageio\\core\\functions.py\u001b[0m in \u001b[0;36mimread\u001b[1;34m(uri, format, **kwargs)\u001b[0m\n\u001b[0;32m    263\u001b[0m \u001b[1;33m\u001b[0m\u001b[0m\n\u001b[0;32m    264\u001b[0m     \u001b[1;31m# Get reader and read first\u001b[0m\u001b[1;33m\u001b[0m\u001b[1;33m\u001b[0m\u001b[0m\n\u001b[1;32m--> 265\u001b[1;33m     \u001b[0mreader\u001b[0m \u001b[1;33m=\u001b[0m \u001b[0mread\u001b[0m\u001b[1;33m(\u001b[0m\u001b[0muri\u001b[0m\u001b[1;33m,\u001b[0m \u001b[0mformat\u001b[0m\u001b[1;33m,\u001b[0m \u001b[1;34m\"i\"\u001b[0m\u001b[1;33m,\u001b[0m \u001b[1;33m**\u001b[0m\u001b[0mkwargs\u001b[0m\u001b[1;33m)\u001b[0m\u001b[1;33m\u001b[0m\u001b[1;33m\u001b[0m\u001b[0m\n\u001b[0m\u001b[0;32m    266\u001b[0m     \u001b[1;32mwith\u001b[0m \u001b[0mreader\u001b[0m\u001b[1;33m:\u001b[0m\u001b[1;33m\u001b[0m\u001b[1;33m\u001b[0m\u001b[0m\n\u001b[0;32m    267\u001b[0m         \u001b[1;32mreturn\u001b[0m \u001b[0mreader\u001b[0m\u001b[1;33m.\u001b[0m\u001b[0mget_data\u001b[0m\u001b[1;33m(\u001b[0m\u001b[1;36m0\u001b[0m\u001b[1;33m)\u001b[0m\u001b[1;33m\u001b[0m\u001b[1;33m\u001b[0m\u001b[0m\n",
      "\u001b[1;32m~\\anaconda3\\lib\\site-packages\\imageio\\core\\functions.py\u001b[0m in \u001b[0;36mget_reader\u001b[1;34m(uri, format, mode, **kwargs)\u001b[0m\n\u001b[0;32m    170\u001b[0m \u001b[1;33m\u001b[0m\u001b[0m\n\u001b[0;32m    171\u001b[0m     \u001b[1;31m# Create request object\u001b[0m\u001b[1;33m\u001b[0m\u001b[1;33m\u001b[0m\u001b[0m\n\u001b[1;32m--> 172\u001b[1;33m     \u001b[0mrequest\u001b[0m \u001b[1;33m=\u001b[0m \u001b[0mRequest\u001b[0m\u001b[1;33m(\u001b[0m\u001b[0muri\u001b[0m\u001b[1;33m,\u001b[0m \u001b[1;34m\"r\"\u001b[0m \u001b[1;33m+\u001b[0m \u001b[0mmode\u001b[0m\u001b[1;33m,\u001b[0m \u001b[1;33m**\u001b[0m\u001b[0mkwargs\u001b[0m\u001b[1;33m)\u001b[0m\u001b[1;33m\u001b[0m\u001b[1;33m\u001b[0m\u001b[0m\n\u001b[0m\u001b[0;32m    173\u001b[0m \u001b[1;33m\u001b[0m\u001b[0m\n\u001b[0;32m    174\u001b[0m     \u001b[1;31m# Get format\u001b[0m\u001b[1;33m\u001b[0m\u001b[1;33m\u001b[0m\u001b[0m\n",
      "\u001b[1;32m~\\anaconda3\\lib\\site-packages\\imageio\\core\\request.py\u001b[0m in \u001b[0;36m__init__\u001b[1;34m(self, uri, mode, **kwargs)\u001b[0m\n\u001b[0;32m    122\u001b[0m \u001b[1;33m\u001b[0m\u001b[0m\n\u001b[0;32m    123\u001b[0m         \u001b[1;31m# Parse what was given\u001b[0m\u001b[1;33m\u001b[0m\u001b[1;33m\u001b[0m\u001b[0m\n\u001b[1;32m--> 124\u001b[1;33m         \u001b[0mself\u001b[0m\u001b[1;33m.\u001b[0m\u001b[0m_parse_uri\u001b[0m\u001b[1;33m(\u001b[0m\u001b[0muri\u001b[0m\u001b[1;33m)\u001b[0m\u001b[1;33m\u001b[0m\u001b[1;33m\u001b[0m\u001b[0m\n\u001b[0m\u001b[0;32m    125\u001b[0m \u001b[1;33m\u001b[0m\u001b[0m\n\u001b[0;32m    126\u001b[0m         \u001b[1;31m# Set extension\u001b[0m\u001b[1;33m\u001b[0m\u001b[1;33m\u001b[0m\u001b[0m\n",
      "\u001b[1;32m~\\anaconda3\\lib\\site-packages\\imageio\\core\\request.py\u001b[0m in \u001b[0;36m_parse_uri\u001b[1;34m(self, uri)\u001b[0m\n\u001b[0;32m    258\u001b[0m                 \u001b[1;31m# Reading: check that the file exists (but is allowed a dir)\u001b[0m\u001b[1;33m\u001b[0m\u001b[1;33m\u001b[0m\u001b[0m\n\u001b[0;32m    259\u001b[0m                 \u001b[1;32mif\u001b[0m \u001b[1;32mnot\u001b[0m \u001b[0mos\u001b[0m\u001b[1;33m.\u001b[0m\u001b[0mpath\u001b[0m\u001b[1;33m.\u001b[0m\u001b[0mexists\u001b[0m\u001b[1;33m(\u001b[0m\u001b[0mfn\u001b[0m\u001b[1;33m)\u001b[0m\u001b[1;33m:\u001b[0m\u001b[1;33m\u001b[0m\u001b[1;33m\u001b[0m\u001b[0m\n\u001b[1;32m--> 260\u001b[1;33m                     \u001b[1;32mraise\u001b[0m \u001b[0mFileNotFoundError\u001b[0m\u001b[1;33m(\u001b[0m\u001b[1;34m\"No such file: '%s'\"\u001b[0m \u001b[1;33m%\u001b[0m \u001b[0mfn\u001b[0m\u001b[1;33m)\u001b[0m\u001b[1;33m\u001b[0m\u001b[1;33m\u001b[0m\u001b[0m\n\u001b[0m\u001b[0;32m    261\u001b[0m             \u001b[1;32melse\u001b[0m\u001b[1;33m:\u001b[0m\u001b[1;33m\u001b[0m\u001b[1;33m\u001b[0m\u001b[0m\n\u001b[0;32m    262\u001b[0m                 \u001b[1;31m# Writing: check that the directory to write to does exist\u001b[0m\u001b[1;33m\u001b[0m\u001b[1;33m\u001b[0m\u001b[0m\n",
      "\u001b[1;31mFileNotFoundError\u001b[0m: No such file: 'C:\\Users\\y4nni\\OneDrive\\Documents\\SAFE\\sawaya\\TP2\\BarcodesA\\OriginalCode.pgm'"
     ]
    }
   ],
   "source": [
    "original=io.imread(r'C:\\Users\\y4nni\\OneDrive\\Documents\\SAFE\\sawaya\\TP2\\BarcodesA\\OriginalCode.pgm')\n",
    "plt.imshow(original,cmap='gray')\n",
    "\n",
    "dimCode = len(original)**2\n",
    "\n",
    "#Création des deux sous suites yblanc et ynoir\n",
    "\n",
    "y_noirs=np.array([[i,j]for i in range(len(original)) for j in range(len(original[0])) if original[i][j]==0])\n",
    "y_blancs=np.array([[i,j]for i in range(len(original)) for j in range(len(original[0])) if original[i][j]==255])\n",
    "\n",
    "print('Nombre de pixels noirs : ',len(y_noirs))\n",
    "print('Nombre de pixels blancs : ',len(y_blancs))\n",
    "\n",
    "#Les deux sous suites contiennent effectivement chacune 28*28*2/2 éléments. Il y  a autant de pixels noirs que de pixels blancs\n",
    "\n"
   ]
  },
  {
   "cell_type": "code",
   "execution_count": 3,
   "metadata": {},
   "outputs": [],
   "source": [
    "dir_nameA=r'C:\\Users\\y4nni\\OneDrive\\Documents\\SAFE\\sawaya\\TP2\\BarcodesA//'\n",
    "dir_nameF=r'C:\\Users\\y4nni\\OneDrive\\Documents\\SAFE\\sawaya\\TP2\\BarcodesF//'"
   ]
  },
  {
   "cell_type": "code",
   "execution_count": 4,
   "metadata": {},
   "outputs": [],
   "source": [
    "#Constantes pour H0\n",
    "u00=50\n",
    "u0255=230\n",
    "sigma2=120\n",
    "\n",
    "\n",
    "#Constantes pour hypothèse H1\n",
    "u10=48\n",
    "u1255=228\n",
    "sigma2=120"
   ]
  },
  {
   "cell_type": "code",
   "execution_count": 5,
   "metadata": {},
   "outputs": [],
   "source": [
    "def f(xi,const):\n",
    "    return (1/(2*np.pi*sigma2**(1/2)))*math.exp((-1/(2*sigma2))*(xi-const)**2)\n",
    "\n",
    "def Z(const):\n",
    "    somme=0\n",
    "    for i in range(255):\n",
    "        somme+=f(i,const)\n",
    "    return somme**(1/2)\n",
    "\n",
    "Z_noir=Z(u00)\n",
    "Z_blanc=Z(u0255)\n",
    "\n",
    "Z_noir_prime=Z(u10)\n",
    "Z_blanc_prime=Z(u1255)\n",
    "\n",
    "def P_noir(k,u00):\n",
    "    return (1/Z_noir)*f(k,u00)\n",
    "\n",
    "def P_blanc(k,u0255):\n",
    "    return (1/Z_blanc)*f(k,u0255)\n",
    "\n",
    "def Q_noir(k,u10):\n",
    "    return (1/Z_noir_prime)*f(k,u10)\n",
    "\n",
    "def Q_blanc(k,u1255):\n",
    "    return (1/Z_blanc_prime)*f(k,u1255)\n"
   ]
  },
  {
   "cell_type": "code",
   "execution_count": 6,
   "metadata": {},
   "outputs": [
    {
     "name": "stderr",
     "output_type": "stream",
     "text": [
      "10001it [00:12, 831.63it/s]\n",
      "10001it [00:11, 864.95it/s]\n",
      "10001it [00:11, 835.99it/s]\n",
      "10001it [00:11, 870.83it/s]\n"
     ]
    }
   ],
   "source": [
    "def Pn(ycolor,dir_name):\n",
    "    p = Path(dir_name)\n",
    "    stat = []\n",
    "    c = 0\n",
    "    for fname in tqdm(p.glob(\"*.*\")):\n",
    "        stat.append([0]*256)\n",
    "        I = io.imread(fname)\n",
    "        for z in ycolor:\n",
    "            stat[c][I[z[0]][z[1]]]+=1\n",
    "        c+=1\n",
    "    return stat\n",
    "\n",
    "PnyBlancsA = Pn(y_blancs,dir_nameA)\n",
    "PnyNoirsA = Pn(y_noirs,dir_nameA)\n",
    "PnyBlancsF = Pn(y_blancs,dir_nameF)\n",
    "PnyNoirsF = Pn(y_noirs,dir_nameF)\n"
   ]
  },
  {
   "cell_type": "code",
   "execution_count": 14,
   "metadata": {},
   "outputs": [
    {
     "name": "stderr",
     "output_type": "stream",
     "text": [
      "10001it [00:23, 431.76it/s]\n",
      "10001it [00:23, 431.87it/s]\n"
     ]
    }
   ],
   "source": [
    "def statistiques(dir_name,PnyNoirs,PnyBlancs,dimCode):\n",
    "    T = []\n",
    "    p = Path(dir_name)\n",
    "\n",
    "    c=0\n",
    "    for fname in tqdm(p.glob(\"*.*\")):\n",
    "        valN = 0\n",
    "        valB = 0\n",
    "        for k in range(256):\n",
    "            valN+= math.log(Q_noir(k,u10)/P_noir(k,u00))*(PnyNoirs[c][k])\n",
    "            valB+= math.log(Q_blanc(k,u1255)/P_blanc(k,u0255))*(PnyBlancs[c][k])\n",
    "        T.append(2*(valN+valB)/dimCode)\n",
    "        c+=1\n",
    "\n",
    "    return T\n",
    "\n",
    "TA = statistiques(dir_nameA,PnyNoirsA,PnyBlancsA,dimCode)[:-1]\n",
    "TF = statistiques(dir_nameF,PnyNoirsF,PnyBlancsF,dimCode)[:-1]"
   ]
  },
  {
   "cell_type": "markdown",
   "metadata": {},
   "source": [
    "2)c) Pour compter les fausses alarmes, il faut vérifier $T_A$ > seuil.\n",
    "\n",
    "2)d) Pour compter la non détection, il faut vérifier $T_F$ < seuil."
   ]
  },
  {
   "cell_type": "code",
   "execution_count": 15,
   "metadata": {
    "scrolled": true
   },
   "outputs": [
    {
     "data": {
      "text/plain": [
       "(array([  11.,  103.,  631., 1723., 2904., 2714., 1412.,  419.,   73.,\n",
       "          10.]),\n",
       " array([-0.08375208, -0.07374783, -0.06374358, -0.05373932, -0.04373507,\n",
       "        -0.03373082, -0.02372657, -0.01372232, -0.00371807,  0.00628619,\n",
       "         0.01629044]),\n",
       " <BarContainer object of 10 artists>)"
      ]
     },
     "execution_count": 15,
     "metadata": {},
     "output_type": "execute_result"
    },
    {
     "data": {
      "image/png": "[encoded data removed]",
      "text/plain": [
       "<Figure size 432x288 with 1 Axes>"
      ]
     },
     "metadata": {
      "needs_background": "light"
     },
     "output_type": "display_data"
    }
   ],
   "source": [
    "plt.hist(TA)"
   ]
  },
  {
   "cell_type": "code",
   "execution_count": 16,
   "metadata": {},
   "outputs": [
    {
     "data": {
      "text/plain": [
       "(array([  37.,  248.,  901., 2041., 2919., 2327., 1157.,  309.,   57.,\n",
       "           4.]),\n",
       " array([-0.01338643, -0.00369256,  0.00600132,  0.0156952 ,  0.02538908,\n",
       "         0.03508295,  0.04477683,  0.05447071,  0.06416459,  0.07385846,\n",
       "         0.08355234]),\n",
       " <BarContainer object of 10 artists>)"
      ]
     },
     "execution_count": 16,
     "metadata": {},
     "output_type": "execute_result"
    },
    {
     "data": {
      "image/png": "[encoded data removed]",
      "text/plain": [
       "<Figure size 432x288 with 1 Axes>"
      ]
     },
     "metadata": {
      "needs_background": "light"
     },
     "output_type": "display_data"
    }
   ],
   "source": [
    "plt.hist(TF)"
   ]
  },
  {
   "cell_type": "code",
   "execution_count": 17,
   "metadata": {},
   "outputs": [
    {
     "name": "stdout",
     "output_type": "stream",
     "text": [
      "['alpha =     0.0275', 'beta =     0.0003', 'seuil = -0.01']\n",
      "['alpha =     0.0237', 'beta =     0.0008', 'seuil = -0.009']\n",
      "['alpha =     0.0197', 'beta =     0.0012', 'seuil = -0.008']\n",
      "['alpha =     0.0156', 'beta =     0.0015', 'seuil = -0.007']\n",
      "['alpha =     0.0129', 'beta =     0.0018', 'seuil = -0.006']\n",
      "['alpha =     0.0102', 'beta =     0.0023', 'seuil = -0.005']\n",
      "['alpha =     0.0085', 'beta =     0.0034', 'seuil = -0.004']\n",
      "['alpha =     0.0075', 'beta =     0.0050', 'seuil = -0.003']\n",
      "['alpha =     0.0061', 'beta =     0.0065', 'seuil = -0.002']\n",
      "['alpha =     0.0050', 'beta =     0.0075', 'seuil = -0.001']\n",
      "['alpha =     0.0037', 'beta =     0.0091', 'seuil = 0.0']\n",
      "['alpha =     0.0034', 'beta =     0.0116', 'seuil = 0.001']\n",
      "['alpha =     0.0031', 'beta =     0.0142', 'seuil = 0.002']\n",
      "['alpha =     0.0026', 'beta =     0.0171', 'seuil = 0.003']\n",
      "['alpha =     0.0018', 'beta =     0.0196', 'seuil = 0.004']\n",
      "['alpha =     0.0016', 'beta =     0.0236', 'seuil = 0.005']\n",
      "['alpha =     0.0013', 'beta =     0.0285', 'seuil = 0.006']\n",
      "['alpha =     0.0008', 'beta =     0.0319', 'seuil = 0.007']\n",
      "['alpha =     0.0008', 'beta =     0.0375', 'seuil = 0.008']\n",
      "['alpha =     0.0006', 'beta =     0.0429', 'seuil = 0.009']\n"
     ]
    },
    {
     "data": {
      "text/plain": [
       "<matplotlib.legend.Legend at 0x1ecbfca2e20>"
      ]
     },
     "execution_count": 17,
     "metadata": {},
     "output_type": "execute_result"
    },
    {
     "data": {
      "image/png": "[encoded data removed]",
      "text/plain": [
       "<Figure size 432x288 with 1 Axes>"
      ]
     },
     "metadata": {
      "needs_background": "light"
     },
     "output_type": "display_data"
    }
   ],
   "source": [
    "alphas =[]\n",
    "betas= []\n",
    "for i in range(-10,10):\n",
    "    seuil = i/1000\n",
    "    alpha = np.count_nonzero(np.array(TA)>seuil)/len(TA) #on compte le nombre d'Authentiques dont la stat est > seuil\n",
    "    beta = np.count_nonzero(np.array(TF)<seuil)/len(TF) #on compte le nombre de Falsifiés dont la stat est < seuil\n",
    "    print(['alpha = '+\"{:10.4f}\".format(alpha),'beta = '+\"{:10.4f}\".format(beta),'seuil = '+str(seuil)])\n",
    "    alphas.append(alpha)\n",
    "    betas.append(beta)\n",
    "\n",
    "plt.plot(alphas, betas,label='Beta')\n",
    "plt.legend()"
   ]
  },
  {
   "cell_type": "markdown",
   "metadata": {},
   "source": [
    "**1.1.2 Test des codes**"
   ]
  },
  {
   "cell_type": "code",
   "execution_count": 18,
   "metadata": {},
   "outputs": [
    {
     "name": "stderr",
     "output_type": "stream",
     "text": [
      "11it [00:00, 725.82it/s]\n",
      "11it [00:00, 732.32it/s]\n"
     ]
    }
   ],
   "source": [
    "dir_nameTpass = r'C:\\Users\\y4nni\\OneDrive\\Documents\\SAFE\\sawaya\\TP2\\Testcodes_pas//'\n",
    "\n",
    "originalT = io.imread(r'C:\\Users\\y4nni\\OneDrive\\Documents\\SAFE\\sawaya\\TP2\\Testcodes_pas//OriginalCode.pgm')\n",
    "\n",
    "y_noirsT=np.array([[i,j]for i in range(len(originalT)) for j in range(len(originalT[0])) if originalT[i][j]==0])\n",
    "y_blancsT=np.array([[i,j]for i in range(len(originalT)) for j in range(len(originalT[0])) if originalT[i][j]==255])\n",
    "\n",
    "PnyBlancsTest = Pn(y_blancsT,dir_nameTpass)\n",
    "PnyNoirsTest = Pn(y_noirsT,dir_nameTpass)\n"
   ]
  },
  {
   "cell_type": "markdown",
   "metadata": {},
   "source": [
    "On choisit un seuil de -0.005 pour obtenir $\\alpha = 10^{-2}$."
   ]
  },
  {
   "cell_type": "code",
   "execution_count": 19,
   "metadata": {},
   "outputs": [
    {
     "name": "stderr",
     "output_type": "stream",
     "text": [
      "11it [00:00, 417.76it/s]\n"
     ]
    },
    {
     "data": {
      "text/plain": [
       "[-0.016745276969942373,\n",
       " 0.026537035955227682,\n",
       " -0.04416874635769748,\n",
       " 0.01624792030896914,\n",
       " 0.04571220602325496,\n",
       " 0.02334826044502361,\n",
       " -0.005350719146813144,\n",
       " -0.04289323615361584,\n",
       " -0.021762283772663444,\n",
       " 0.03805914479876508]"
      ]
     },
     "execution_count": 19,
     "metadata": {},
     "output_type": "execute_result"
    }
   ],
   "source": [
    "TTestP = statistiques(dir_nameTpass,PnyNoirsTest,PnyBlancsTest,len(originalT)**2)[:-1]\n",
    "TTestP"
   ]
  },
  {
   "cell_type": "markdown",
   "metadata": {},
   "source": [
    "En fixant le seuil de décision à -0.005 on obtient que les code-barres : 1,3,7,8 et 9 sont authentiques et les autres frauduleux."
   ]
  },
  {
   "cell_type": "markdown",
   "metadata": {},
   "source": [
    "**1.2 Une hypothèse simple ($H_0$) et une hypothèse composée ($H_1$)**"
   ]
  },
  {
   "cell_type": "markdown",
   "metadata": {},
   "source": [
    "3)On a toujours la statistique suivante :\n",
    "\n",
    "$\n",
    "   \\sum_{k=0}^{255} P_{y_{Blanc}}^n (k) * log(\\frac{Q_{Blanc}(k)}{P_{Blanc}(k)})+ \\sum_{k=0}^{255}  P_{y_{Noir}}^n(k) * log(\\frac{Q_{Noir}(k)}{P_{Noir}(k)})\n",
    "$"
   ]
  },
  {
   "cell_type": "code",
   "execution_count": 1,
   "metadata": {},
   "outputs": [
    {
     "ename": "NameError",
     "evalue": "name 'dir_nameA' is not defined",
     "output_type": "error",
     "traceback": [
      "\u001b[1;31m---------------------------------------------------------------------------\u001b[0m",
      "\u001b[1;31mNameError\u001b[0m                                 Traceback (most recent call last)",
      "\u001b[1;32m~\\AppData\\Local\\Temp/ipykernel_75900/2578128991.py\u001b[0m in \u001b[0;36m<module>\u001b[1;34m\u001b[0m\n\u001b[0;32m     33\u001b[0m     \u001b[1;32mreturn\u001b[0m \u001b[0mT\u001b[0m\u001b[1;33m\u001b[0m\u001b[1;33m\u001b[0m\u001b[0m\n\u001b[0;32m     34\u001b[0m \u001b[1;33m\u001b[0m\u001b[0m\n\u001b[1;32m---> 35\u001b[1;33m \u001b[0mTA2\u001b[0m \u001b[1;33m=\u001b[0m \u001b[0mstatistiques2\u001b[0m\u001b[1;33m(\u001b[0m\u001b[0mdir_nameA\u001b[0m\u001b[1;33m,\u001b[0m\u001b[0mPnyNoirsA\u001b[0m\u001b[1;33m,\u001b[0m\u001b[0mPnyBlancsA\u001b[0m\u001b[1;33m,\u001b[0m\u001b[0mdimCode\u001b[0m\u001b[1;33m,\u001b[0m\u001b[0my_blancs\u001b[0m\u001b[1;33m,\u001b[0m\u001b[0my_noirs\u001b[0m\u001b[1;33m)\u001b[0m\u001b[1;33m[\u001b[0m\u001b[1;33m:\u001b[0m\u001b[1;33m-\u001b[0m\u001b[1;36m1\u001b[0m\u001b[1;33m]\u001b[0m\u001b[1;33m\u001b[0m\u001b[1;33m\u001b[0m\u001b[0m\n\u001b[0m\u001b[0;32m     36\u001b[0m \u001b[0mTF2\u001b[0m \u001b[1;33m=\u001b[0m \u001b[0mstatistiques2\u001b[0m\u001b[1;33m(\u001b[0m\u001b[0mdir_nameF\u001b[0m\u001b[1;33m,\u001b[0m\u001b[0mPnyNoirsF\u001b[0m\u001b[1;33m,\u001b[0m\u001b[0mPnyBlancsF\u001b[0m\u001b[1;33m,\u001b[0m\u001b[0mdimCode\u001b[0m\u001b[1;33m,\u001b[0m\u001b[0my_blancs\u001b[0m\u001b[1;33m,\u001b[0m\u001b[0my_noirs\u001b[0m\u001b[1;33m)\u001b[0m\u001b[1;33m[\u001b[0m\u001b[1;33m:\u001b[0m\u001b[1;33m-\u001b[0m\u001b[1;36m1\u001b[0m\u001b[1;33m]\u001b[0m\u001b[1;33m\u001b[0m\u001b[1;33m\u001b[0m\u001b[0m\n",
      "\u001b[1;31mNameError\u001b[0m: name 'dir_nameA' is not defined"
     ]
    }
   ],
   "source": [
    "def statistiques2(dir_name,PnyNoirs,PnyBlancs,dimCode,yblancs,ynoirs):\n",
    "    T = []\n",
    "    p = Path(dir_name)\n",
    "\n",
    "    c=0\n",
    "    for fname in tqdm(p.glob(\"*.*\")):\n",
    "\n",
    "        \n",
    "        #Calcul de U10 et U1255\n",
    "        \n",
    "        I = io.imread(fname)\n",
    "        u10 = 0\n",
    "        u1255 = 0\n",
    "        \n",
    "        for z in yblancs:\n",
    "                u1255+=I[z[0]][z[1]]\n",
    "                \n",
    "        for z in ynoirs:\n",
    "                u10+=I[z[0]][z[1]]\n",
    "                \n",
    "        u10 = min(u10/len(ynoirs),u00-1)\n",
    "        u1255 = min(u1255/len(yblancs),u0255-1)\n",
    "        \n",
    "        #Calcul de la statistique\n",
    "        valN = 0\n",
    "        valB = 0\n",
    "        for k in range(256):\n",
    "            valN+= math.log(Q_noir(k,u10)/P_noir(k,u00))*(PnyNoirs[c][k])\n",
    "            valB+= math.log(Q_blanc(k,u1255)/P_blanc(k,u0255))*(PnyBlancs[c][k])\n",
    "        T.append(2*(valN+valB)/dimCode)\n",
    "        c+=1\n",
    "\n",
    "    return T\n",
    "\n",
    "TA2 = statistiques2(dir_nameA,PnyNoirsA,PnyBlancsA,dimCode,y_blancs,y_noirs)[:-1]\n",
    "TF2 = statistiques2(dir_nameF,PnyNoirsF,PnyBlancsF,dimCode,y_blancs,y_noirs)[:-1]"
   ]
  },
  {
   "cell_type": "code",
   "execution_count": 21,
   "metadata": {},
   "outputs": [
    {
     "data": {
      "text/plain": [
       "(array([  14.,  169.,  973., 2489., 3342., 2132.,  721.,  135.,   21.,\n",
       "           4.]),\n",
       " array([-0.03477249, -0.02923099, -0.0236895 , -0.018148  , -0.01260651,\n",
       "        -0.00706501, -0.00152352,  0.00401798,  0.00955947,  0.01510097,\n",
       "         0.02064247]),\n",
       " <BarContainer object of 10 artists>)"
      ]
     },
     "execution_count": 21,
     "metadata": {},
     "output_type": "execute_result"
    },
    {
     "data": {
      "image/png": "[encoded data removed]",
      "text/plain": [
       "<Figure size 432x288 with 1 Axes>"
      ]
     },
     "metadata": {
      "needs_background": "light"
     },
     "output_type": "display_data"
    }
   ],
   "source": [
    "plt.hist(TA2)"
   ]
  },
  {
   "cell_type": "code",
   "execution_count": 22,
   "metadata": {},
   "outputs": [
    {
     "data": {
      "text/plain": [
       "(array([2.600e+02, 1.665e+03, 3.090e+03, 2.733e+03, 1.477e+03, 5.880e+02,\n",
       "        1.380e+02, 4.300e+01, 4.000e+00, 2.000e+00]),\n",
       " array([0.0004301 , 0.01117762, 0.02192514, 0.03267266, 0.04342018,\n",
       "        0.05416769, 0.06491521, 0.07566273, 0.08641025, 0.09715777,\n",
       "        0.10790529]),\n",
       " <BarContainer object of 10 artists>)"
      ]
     },
     "execution_count": 22,
     "metadata": {},
     "output_type": "execute_result"
    },
    {
     "data": {
      "image/png": "[encoded data removed]",
      "text/plain": [
       "<Figure size 432x288 with 1 Axes>"
      ]
     },
     "metadata": {
      "needs_background": "light"
     },
     "output_type": "display_data"
    }
   ],
   "source": [
    "plt.hist(TF2)"
   ]
  },
  {
   "cell_type": "code",
   "execution_count": 4,
   "metadata": {
    "scrolled": true
   },
   "outputs": [
    {
     "ename": "NameError",
     "evalue": "name 'TA2' is not defined",
     "output_type": "error",
     "traceback": [
      "\u001b[1;31m---------------------------------------------------------------------------\u001b[0m",
      "\u001b[1;31mNameError\u001b[0m                                 Traceback (most recent call last)",
      "\u001b[1;32m~\\AppData\\Local\\Temp/ipykernel_75900/3711319503.py\u001b[0m in \u001b[0;36m<module>\u001b[1;34m\u001b[0m\n\u001b[0;32m      3\u001b[0m \u001b[1;32mfor\u001b[0m \u001b[0mi\u001b[0m \u001b[1;32min\u001b[0m \u001b[0mrange\u001b[0m\u001b[1;33m(\u001b[0m\u001b[1;36m0\u001b[0m\u001b[1;33m,\u001b[0m\u001b[1;36m15\u001b[0m\u001b[1;33m)\u001b[0m\u001b[1;33m:\u001b[0m\u001b[1;33m\u001b[0m\u001b[1;33m\u001b[0m\u001b[0m\n\u001b[0;32m      4\u001b[0m     \u001b[0mseuil\u001b[0m \u001b[1;33m=\u001b[0m \u001b[0mi\u001b[0m\u001b[1;33m/\u001b[0m\u001b[1;36m1000\u001b[0m\u001b[1;33m\u001b[0m\u001b[1;33m\u001b[0m\u001b[0m\n\u001b[1;32m----> 5\u001b[1;33m     \u001b[0malpha\u001b[0m \u001b[1;33m=\u001b[0m \u001b[0mnp\u001b[0m\u001b[1;33m.\u001b[0m\u001b[0mcount_nonzero\u001b[0m\u001b[1;33m(\u001b[0m\u001b[0mnp\u001b[0m\u001b[1;33m.\u001b[0m\u001b[0marray\u001b[0m\u001b[1;33m(\u001b[0m\u001b[0mTA2\u001b[0m\u001b[1;33m)\u001b[0m\u001b[1;33m>\u001b[0m\u001b[0mseuil\u001b[0m\u001b[1;33m)\u001b[0m\u001b[1;33m/\u001b[0m\u001b[0mlen\u001b[0m\u001b[1;33m(\u001b[0m\u001b[0mTA2\u001b[0m\u001b[1;33m)\u001b[0m\u001b[1;33m\u001b[0m\u001b[1;33m\u001b[0m\u001b[0m\n\u001b[0m\u001b[0;32m      6\u001b[0m     \u001b[0mbeta\u001b[0m \u001b[1;33m=\u001b[0m \u001b[0mnp\u001b[0m\u001b[1;33m.\u001b[0m\u001b[0mcount_nonzero\u001b[0m\u001b[1;33m(\u001b[0m\u001b[0mnp\u001b[0m\u001b[1;33m.\u001b[0m\u001b[0marray\u001b[0m\u001b[1;33m(\u001b[0m\u001b[0mTF2\u001b[0m\u001b[1;33m)\u001b[0m\u001b[1;33m<\u001b[0m\u001b[0mseuil\u001b[0m\u001b[1;33m)\u001b[0m\u001b[1;33m/\u001b[0m\u001b[0mlen\u001b[0m\u001b[1;33m(\u001b[0m\u001b[0mTF2\u001b[0m\u001b[1;33m)\u001b[0m\u001b[1;33m\u001b[0m\u001b[1;33m\u001b[0m\u001b[0m\n\u001b[0;32m      7\u001b[0m     \u001b[0mprint\u001b[0m\u001b[1;33m(\u001b[0m\u001b[1;33m[\u001b[0m\u001b[1;34m'alpha = '\u001b[0m\u001b[1;33m+\u001b[0m\u001b[1;34m\"{:10.4f}\"\u001b[0m\u001b[1;33m.\u001b[0m\u001b[0mformat\u001b[0m\u001b[1;33m(\u001b[0m\u001b[0malpha\u001b[0m\u001b[1;33m)\u001b[0m\u001b[1;33m,\u001b[0m\u001b[1;34m'beta = '\u001b[0m\u001b[1;33m+\u001b[0m\u001b[1;34m\"{:10.4f}\"\u001b[0m\u001b[1;33m.\u001b[0m\u001b[0mformat\u001b[0m\u001b[1;33m(\u001b[0m\u001b[0mbeta\u001b[0m\u001b[1;33m)\u001b[0m\u001b[1;33m,\u001b[0m\u001b[1;34m'seuil = '\u001b[0m\u001b[1;33m+\u001b[0m\u001b[0mstr\u001b[0m\u001b[1;33m(\u001b[0m\u001b[0mseuil\u001b[0m\u001b[1;33m)\u001b[0m\u001b[1;33m]\u001b[0m\u001b[1;33m)\u001b[0m\u001b[1;33m\u001b[0m\u001b[1;33m\u001b[0m\u001b[0m\n",
      "\u001b[1;31mNameError\u001b[0m: name 'TA2' is not defined"
     ]
    }
   ],
   "source": [
    "alphas2 =[]\n",
    "betas2= []\n",
    "for i in range(0,15):\n",
    "    seuil = i/1000\n",
    "    alpha = np.count_nonzero(np.array(TA2)>seuil)/len(TA2)\n",
    "    beta = np.count_nonzero(np.array(TF2)<seuil)/len(TF2)\n",
    "    print(['alpha = '+\"{:10.4f}\".format(alpha),'beta = '+\"{:10.4f}\".format(beta),'seuil = '+str(seuil)])\n",
    "    alphas2.append(alpha)\n",
    "    betas2.append(beta)\n",
    "\n",
    "plt.plot(alphas2, betas2,label='Beta')\n",
    "plt.legend()"
   ]
  },
  {
   "cell_type": "markdown",
   "metadata": {},
   "source": [
    "*4) Test sur les codes d'essai*"
   ]
  },
  {
   "cell_type": "code",
   "execution_count": 24,
   "metadata": {},
   "outputs": [
    {
     "name": "stderr",
     "output_type": "stream",
     "text": [
      "11it [00:00, 209.59it/s]\n"
     ]
    },
    {
     "data": {
      "text/plain": [
       "[-0.0012690864937518534,\n",
       " 0.027209607279675824,\n",
       " -0.014980821187629416,\n",
       " 0.018544760601208563,\n",
       " 0.04736844409246212,\n",
       " 0.025240511286686758,\n",
       " 0.005501990878523577,\n",
       " -0.014343066085588597,\n",
       " -0.0037775898951123927,\n",
       " 0.04250295835735179]"
      ]
     },
     "execution_count": 24,
     "metadata": {},
     "output_type": "execute_result"
    }
   ],
   "source": [
    "TTestP = statistiques2(dir_nameTpass,PnyNoirsTest,PnyBlancsTest,len(originalT)**2,y_blancsT,y_noirsT)[:-1]\n",
    "TTestP"
   ]
  },
  {
   "cell_type": "markdown",
   "metadata": {},
   "source": [
    "On a fixé le seuil à 0.005 pour $\\alpha = 10^{-2}$. On en déduit que les codes 1,3,,8 et 9 sont authentiques et les autres sont frauduleux."
   ]
  },
  {
   "cell_type": "markdown",
   "metadata": {},
   "source": [
    "**2. Cas de l'adversaire actif**\n",
    "\n",
    "**2.1 Deux hypothèses simples**"
   ]
  },
  {
   "cell_type": "code",
   "execution_count": 5,
   "metadata": {},
   "outputs": [
    {
     "ename": "NameError",
     "evalue": "name 'Z' is not defined",
     "output_type": "error",
     "traceback": [
      "\u001b[1;31m---------------------------------------------------------------------------\u001b[0m",
      "\u001b[1;31mNameError\u001b[0m                                 Traceback (most recent call last)",
      "\u001b[1;32m~\\AppData\\Local\\Temp/ipykernel_75900/158946539.py\u001b[0m in \u001b[0;36m<module>\u001b[1;34m\u001b[0m\n\u001b[0;32m      5\u001b[0m \u001b[0mdimCode2\u001b[0m \u001b[1;33m=\u001b[0m \u001b[1;36m900\u001b[0m\u001b[1;33m\u001b[0m\u001b[1;33m\u001b[0m\u001b[0m\n\u001b[0;32m      6\u001b[0m \u001b[1;33m\u001b[0m\u001b[0m\n\u001b[1;32m----> 7\u001b[1;33m \u001b[0mZ_noir_part2\u001b[0m\u001b[1;33m=\u001b[0m\u001b[0mZ\u001b[0m\u001b[1;33m(\u001b[0m\u001b[0mu00_part2\u001b[0m\u001b[1;33m)\u001b[0m\u001b[1;33m\u001b[0m\u001b[1;33m\u001b[0m\u001b[0m\n\u001b[0m\u001b[0;32m      8\u001b[0m \u001b[0mZ_blanc_part2\u001b[0m\u001b[1;33m=\u001b[0m\u001b[0mZ\u001b[0m\u001b[1;33m(\u001b[0m\u001b[0mu0255_part2\u001b[0m\u001b[1;33m)\u001b[0m\u001b[1;33m\u001b[0m\u001b[1;33m\u001b[0m\u001b[0m\n\u001b[0;32m      9\u001b[0m \u001b[1;33m\u001b[0m\u001b[0m\n",
      "\u001b[1;31mNameError\u001b[0m: name 'Z' is not defined"
     ]
    }
   ],
   "source": [
    "#constantes de la partie 2\n",
    "u00_part2=54\n",
    "u0255_part2=100\n",
    "sigma2=102\n",
    "dimCode2 = 900\n",
    "\n",
    "Z_noir_part2=Z(u00_part2)\n",
    "Z_blanc_part2=Z(u0255_part2)\n",
    "\n",
    "\n",
    "kappa=int((u00_part2+u0255_part2)/2) #seuil de décision\n",
    "\n",
    "\n",
    "\n",
    "def P_bw(const):\n",
    "    somme=0\n",
    "    for i in range(kappa,256):\n",
    "        somme+=f(i,const)\n",
    "    return somme**(1/2)\n",
    "\n",
    "def P_wb(const):\n",
    "    somme=0\n",
    "    for i in range(0,kappa):\n",
    "        somme+=f(i,const)\n",
    "    return somme**(1/2)\n",
    "\n",
    "P_bw_part2=P_bw(u00_part2)\n",
    "P_wb_part2=P_wb(u0255_part2)\n",
    "\n",
    "\n",
    "def P_noir_part2(k):\n",
    "    return (1/Z_noir_part2)*f(k,u00_part2)\n",
    "\n",
    "def P_blanc_part2(k):\n",
    "    return (1/Z_blanc_part2)*f(k,u0255_part2)\n",
    "\n",
    "def Q_noir_part2(k):\n",
    "    return (1-P_bw_part2)*P_noir_part2(k) + P_bw_part2*P_blanc_part2(k)\n",
    "\n",
    "def Q_blanc_part2(k):\n",
    "    return (1-P_wb_part2)*P_blanc_part2(k) + P_wb_part2*P_noir_part2(k)\n",
    "\n",
    "\n",
    "\n",
    "def statistiques_part2(dir_name,PnyNoirs,PnyBlancs,dimCode):\n",
    "    T = []\n",
    "    p = Path(dir_name)\n",
    "\n",
    "    c=0\n",
    "    for fname in tqdm(p.glob(\"*.*\")):\n",
    "        valN = 0\n",
    "        valB = 0\n",
    "        for k in range(256):\n",
    "            valN+= math.log(Q_noir_part2(k)/P_noir_part2(k),10)*(PnyNoirs[c][k])\n",
    "            valB+= math.log(Q_blanc_part2(k)/P_blanc_part2(k),10)*(PnyBlancs[c][k])\n",
    "        T.append(2*(valN+valB)/dimCode)\n",
    "        c+=1\n",
    "\n",
    "    return T"
   ]
  },
  {
   "cell_type": "code",
   "execution_count": 26,
   "metadata": {},
   "outputs": [
    {
     "name": "stderr",
     "output_type": "stream",
     "text": [
      "10001it [00:13, 748.88it/s]\n",
      "10001it [00:12, 818.15it/s]\n",
      "10001it [00:13, 748.15it/s]\n",
      "10001it [00:12, 810.48it/s]\n",
      "10001it [00:34, 292.32it/s]\n",
      "10001it [00:34, 293.06it/s]\n"
     ]
    }
   ],
   "source": [
    "#2.1.2\n",
    "\n",
    "MGBarcodesA=r'C:\\Users\\y4nni\\OneDrive\\Documents\\SAFE\\sawaya\\TP2\\MGBarcodesA//'\n",
    "MGBarcodesF=r'C:\\Users\\y4nni\\OneDrive\\Documents\\SAFE\\sawaya\\TP2\\MGBarcodesF//'\n",
    "\n",
    "originalMG = io.imread(r'C:\\Users\\y4nni\\OneDrive\\Documents\\SAFE\\sawaya\\TP2\\MGBarcodesA//OriginalCode.pgm')\n",
    "\n",
    "y_blancsMG = np.array([[i,j]for i in range(len(originalMG)) for j in range(len(originalMG[0])) if originalMG[i][j]==255])\n",
    "y_noirsMG = np.array([[i,j]for i in range(len(originalMG)) for j in range(len(originalMG[0])) if originalMG[i][j]==0])\n",
    "\n",
    "PnyBlancsA_part2 = Pn(y_blancsMG,MGBarcodesA)\n",
    "PnyNoirsA_part2 = Pn(y_noirsMG,MGBarcodesA)\n",
    "PnyBlancsF_part2 = Pn(y_blancsMG,MGBarcodesF)\n",
    "PnyNoirsF_part2 = Pn(y_noirsMG,MGBarcodesF)\n",
    "\n",
    "TA_part2 = statistiques_part2(MGBarcodesA,PnyNoirsA_part2,PnyBlancsA_part2,dimCode2)[:-1]\n",
    "TF_part2 = statistiques_part2(MGBarcodesF,PnyNoirsF_part2,PnyBlancsF_part2,dimCode2)[:-1]"
   ]
  },
  {
   "cell_type": "code",
   "execution_count": 33,
   "metadata": {},
   "outputs": [
    {
     "name": "stdout",
     "output_type": "stream",
     "text": [
      "['alpha =     0.0538', 'beta =     0.0002', 'seuil = -0.05']\n",
      "['alpha =     0.0487', 'beta =     0.0002', 'seuil = -0.0498']\n",
      "['alpha =     0.0452', 'beta =     0.0003', 'seuil = -0.0496']\n",
      "['alpha =     0.0404', 'beta =     0.0003', 'seuil = -0.0494']\n",
      "['alpha =     0.0371', 'beta =     0.0003', 'seuil = -0.0492']\n",
      "['alpha =     0.0330', 'beta =     0.0003', 'seuil = -0.049']\n",
      "['alpha =     0.0297', 'beta =     0.0003', 'seuil = -0.0488']\n",
      "['alpha =     0.0270', 'beta =     0.0003', 'seuil = -0.0486']\n",
      "['alpha =     0.0248', 'beta =     0.0003', 'seuil = -0.0484']\n",
      "['alpha =     0.0222', 'beta =     0.0003', 'seuil = -0.0482']\n",
      "['alpha =     0.0197', 'beta =     0.0004', 'seuil = -0.048']\n",
      "['alpha =     0.0179', 'beta =     0.0004', 'seuil = -0.0478']\n",
      "['alpha =     0.0163', 'beta =     0.0004', 'seuil = -0.0476']\n",
      "['alpha =     0.0146', 'beta =     0.0004', 'seuil = -0.0474']\n",
      "['alpha =     0.0129', 'beta =     0.0004', 'seuil = -0.0472']\n",
      "['alpha =     0.0118', 'beta =     0.0004', 'seuil = -0.047']\n",
      "['alpha =     0.0112', 'beta =     0.0004', 'seuil = -0.0468']\n",
      "['alpha =     0.0098', 'beta =     0.0004', 'seuil = -0.0466']\n",
      "['alpha =     0.0085', 'beta =     0.0005', 'seuil = -0.0464']\n",
      "['alpha =     0.0075', 'beta =     0.0008', 'seuil = -0.0462']\n",
      "['alpha =     0.0069', 'beta =     0.0008', 'seuil = -0.046']\n",
      "['alpha =     0.0065', 'beta =     0.0008', 'seuil = -0.0458']\n",
      "['alpha =     0.0059', 'beta =     0.0008', 'seuil = -0.0456']\n",
      "['alpha =     0.0051', 'beta =     0.0008', 'seuil = -0.0454']\n",
      "['alpha =     0.0045', 'beta =     0.0010', 'seuil = -0.0452']\n",
      "['alpha =     0.0041', 'beta =     0.0011', 'seuil = -0.045']\n",
      "['alpha =     0.0033', 'beta =     0.0011', 'seuil = -0.0448']\n",
      "['alpha =     0.0029', 'beta =     0.0011', 'seuil = -0.0446']\n",
      "['alpha =     0.0027', 'beta =     0.0011', 'seuil = -0.0444']\n",
      "['alpha =     0.0023', 'beta =     0.0011', 'seuil = -0.0442']\n",
      "['alpha =     0.0022', 'beta =     0.0011', 'seuil = -0.044']\n",
      "['alpha =     0.0018', 'beta =     0.0011', 'seuil = -0.0438']\n",
      "['alpha =     0.0016', 'beta =     0.0011', 'seuil = -0.0436']\n",
      "['alpha =     0.0016', 'beta =     0.0011', 'seuil = -0.0434']\n",
      "['alpha =     0.0013', 'beta =     0.0011', 'seuil = -0.0432']\n",
      "['alpha =     0.0013', 'beta =     0.0011', 'seuil = -0.043']\n",
      "['alpha =     0.0011', 'beta =     0.0011', 'seuil = -0.0428']\n",
      "['alpha =     0.0010', 'beta =     0.0012', 'seuil = -0.0426']\n",
      "['alpha =     0.0009', 'beta =     0.0013', 'seuil = -0.0424']\n",
      "['alpha =     0.0006', 'beta =     0.0013', 'seuil = -0.0422']\n",
      "['alpha =     0.0006', 'beta =     0.0013', 'seuil = -0.042']\n",
      "['alpha =     0.0006', 'beta =     0.0014', 'seuil = -0.0418']\n",
      "['alpha =     0.0006', 'beta =     0.0015', 'seuil = -0.0416']\n",
      "['alpha =     0.0003', 'beta =     0.0016', 'seuil = -0.0414']\n",
      "['alpha =     0.0002', 'beta =     0.0018', 'seuil = -0.0412']\n",
      "['alpha =     0.0002', 'beta =     0.0020', 'seuil = -0.041']\n",
      "['alpha =     0.0002', 'beta =     0.0020', 'seuil = -0.0408']\n",
      "['alpha =     0.0001', 'beta =     0.0021', 'seuil = -0.0406']\n",
      "['alpha =     0.0001', 'beta =     0.0021', 'seuil = -0.0404']\n",
      "['alpha =     0.0001', 'beta =     0.0023', 'seuil = -0.0402']\n"
     ]
    },
    {
     "data": {
      "text/plain": [
       "<matplotlib.legend.Legend at 0x1ecba6c3be0>"
      ]
     },
     "execution_count": 33,
     "metadata": {},
     "output_type": "execute_result"
    },
    {
     "data": {
      "image/png": "[encoded data removed]",
      "text/plain": [
       "<Figure size 432x288 with 1 Axes>"
      ]
     },
     "metadata": {
      "needs_background": "light"
     },
     "output_type": "display_data"
    }
   ],
   "source": [
    "alphas_part2 =[]\n",
    "betas_part2= []\n",
    "for i in range(-500,-400,2):\n",
    "    seuil = i/10000\n",
    "    alpha = np.count_nonzero(np.array(TA_part2)>seuil)/len(TA_part2)\n",
    "    beta = np.count_nonzero(np.array(TF_part2)<seuil)/len(TF_part2)\n",
    "    print(['alpha = '+\"{:10.4f}\".format(alpha),'beta = '+\"{:10.4f}\".format(beta),'seuil = '+str(seuil)])\n",
    "    alphas_part2.append(alpha)\n",
    "    betas_part2.append(beta)\n",
    "\n",
    "plt.plot(alphas_part2, betas_part2,label='Beta_part2')\n",
    "plt.legend()"
   ]
  },
  {
   "cell_type": "code",
   "execution_count": 34,
   "metadata": {
    "scrolled": true
   },
   "outputs": [
    {
     "data": {
      "text/plain": [
       "(array([  88.,  801., 2041., 2766., 2313., 1257.,  511.,  154.,   56.,\n",
       "          13.]),\n",
       " array([-0.05192557, -0.03248239, -0.01303921,  0.00640397,  0.02584715,\n",
       "         0.04529034,  0.06473352,  0.0841767 ,  0.10361988,  0.12306306,\n",
       "         0.14250624]),\n",
       " <BarContainer object of 10 artists>)"
      ]
     },
     "execution_count": 34,
     "metadata": {},
     "output_type": "execute_result"
    },
    {
     "data": {
      "image/png": "[encoded data removed]",
      "text/plain": [
       "<Figure size 432x288 with 1 Axes>"
      ]
     },
     "metadata": {
      "needs_background": "light"
     },
     "output_type": "display_data"
    },
    {
     "data": {
      "image/png": "[encoded data removed]",
      "text/plain": [
       "<Figure size 432x288 with 1 Axes>"
      ]
     },
     "metadata": {
      "needs_background": "light"
     },
     "output_type": "display_data"
    }
   ],
   "source": [
    "plt.hist(TA_part2)\n",
    "plt.figure()\n",
    "plt.hist(TF_part2)\n",
    "\n"
   ]
  },
  {
   "cell_type": "markdown",
   "metadata": {},
   "source": [
    "**Test sur les images d'essai**"
   ]
  },
  {
   "cell_type": "code",
   "execution_count": 35,
   "metadata": {},
   "outputs": [
    {
     "data": {
      "text/plain": [
       "<matplotlib.image.AxesImage at 0x1ecc6327250>"
      ]
     },
     "execution_count": 35,
     "metadata": {},
     "output_type": "execute_result"
    },
    {
     "data": {
      "image/png": "[encoded data removed]",
      "text/plain": [
       "<Figure size 432x288 with 1 Axes>"
      ]
     },
     "metadata": {
      "needs_background": "light"
     },
     "output_type": "display_data"
    }
   ],
   "source": [
    "dir_nameTact = r'C:\\Users\\y4nni\\OneDrive\\Documents\\SAFE\\sawaya\\TP2\\Testcodes_act//'\n",
    "originalTact = io.imread(r'C:\\Users\\y4nni\\OneDrive\\Documents\\SAFE\\sawaya\\TP2\\Testcodes_act//OriginalCode.pgm')\n",
    "plt.imshow(originalTact,cmap='gray')"
   ]
  },
  {
   "cell_type": "code",
   "execution_count": 36,
   "metadata": {},
   "outputs": [
    {
     "name": "stderr",
     "output_type": "stream",
     "text": [
      "11it [00:00, 716.28it/s]\n",
      "11it [00:00, 2174.85it/s]\n",
      "11it [00:00, 213.22it/s]\n"
     ]
    }
   ],
   "source": [
    "y_blancsTa = np.array([[i,j]for i in range(len(originalTact)) for j in range(len(originalTact[0])) if originalTact[i][j]==255])\n",
    "y_noirsTa = np.array([[i,j]for i in range(len(originalTact)) for j in range(len(originalTact[0])) if originalTact[i][j]==0])\n",
    "\n",
    "PnyBlancsTa = Pn(y_blancsTa,dir_nameTact)\n",
    "PnyNoirsTa = Pn(y_noirsTa,dir_nameTact)\n",
    "\n",
    "TTact = statistiques_part2(dir_nameTact,PnyNoirsTa,PnyBlancsTa,dimCode2)[:-1]"
   ]
  },
  {
   "cell_type": "code",
   "execution_count": 37,
   "metadata": {},
   "outputs": [
    {
     "data": {
      "text/plain": [
       "[-0.01650042571524297,\n",
       " 0.02623555679763422,\n",
       " 0.08383609913983205,\n",
       " -0.057985179496402695,\n",
       " 0.0020619762729064063,\n",
       " -0.05496656841441592,\n",
       " -0.056574344991907624,\n",
       " 0.045832441286820874,\n",
       " -0.05704843313964979,\n",
       " -0.0544512653888857]"
      ]
     },
     "execution_count": 37,
     "metadata": {},
     "output_type": "execute_result"
    }
   ],
   "source": [
    "TTact"
   ]
  },
  {
   "cell_type": "markdown",
   "metadata": {},
   "source": [
    "On choisit un seuil de -0.0466 pour avoir $\\alpha = 10^{-2}$."
   ]
  },
  {
   "cell_type": "markdown",
   "metadata": {},
   "source": [
    "On obtient que les codes barres 4,6,7,9 et 10 sont authentiques et les autres frauduleux."
   ]
  }
 ],
 "metadata": {
  "kernelspec": {
   "display_name": "Python 3 (ipykernel)",
   "language": "python",
   "name": "python3"
  },
  "language_info": {
   "codemirror_mode": {
    "name": "ipython",
    "version": 3
   },
   "file_extension": ".py",
   "mimetype": "text/x-python",
   "name": "python",
   "nbconvert_exporter": "python",
   "pygments_lexer": "ipython3",
   "version": "3.9.7"
  }
 },
 "nbformat": 4,
 "nbformat_minor": 4
}
